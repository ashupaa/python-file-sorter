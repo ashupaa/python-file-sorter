{
 "cells": [
  {
   "cell_type": "markdown",
   "id": "25ee3bc7-2c63-49b7-b348-38f95707092a",
   "metadata": {},
   "source": [
    "FILE SORTING USING PYTHON "
   ]
  },
  {
   "cell_type": "code",
   "execution_count": 106,
   "id": "1980cfa2-6632-4627-be2a-71dcc47fff74",
   "metadata": {},
   "outputs": [],
   "source": [
    "import os"
   ]
  },
  {
   "cell_type": "code",
   "execution_count": 107,
   "id": "7ba95397-e332-478d-893d-f058ceb48d01",
   "metadata": {},
   "outputs": [],
   "source": [
    "import shutil"
   ]
  },
  {
   "cell_type": "raw",
   "id": "3fe00acc-878a-48dd-869c-b52b3d1f901e",
   "metadata": {},
   "source": []
  },
  {
   "cell_type": "markdown",
   "id": "3a3f870f-f6f7-4ec5-bc8d-4232f4e4d352",
   "metadata": {},
   "source": [
    "OS MODULE FUNCTIONS :-\n",
    "* Handling the Current Working Directory\n",
    "* Creating a Directory\n",
    "* Listing out Files and Directories with Python\n",
    "* Deleting Directory or Files using Python"
   ]
  },
  {
   "cell_type": "markdown",
   "id": "86dbb1e1-4a00-4e70-89f0-039fbc0f45f3",
   "metadata": {},
   "source": [
    "Shutil module offers high-level operation on a file like a copy, create, and remote operation on the file."
   ]
  },
  {
   "cell_type": "code",
   "execution_count": 108,
   "id": "0f1ab2f4-70d9-40fd-91ed-5d073c26b7ae",
   "metadata": {},
   "outputs": [],
   "source": [
    "path = \"D:/HI/PYTHON PROJECT/\""
   ]
  },
  {
   "cell_type": "code",
   "execution_count": 109,
   "id": "74bc0d49-4cb4-4b80-8912-f013533e986c",
   "metadata": {},
   "outputs": [
    {
     "data": {
      "text/plain": [
       "['Diwali Sales Data.csv',\n",
       " 'first.py',\n",
       " 'Moeraki-Boulders-New-Zealand.jpg',\n",
       " 'Screenshot 2025-01-20 211756.png',\n",
       " 'Screenshot 2025-01-22 211028.png',\n",
       " 'single storage.txt']"
      ]
     },
     "execution_count": 109,
     "metadata": {},
     "output_type": "execute_result"
    }
   ],
   "source": [
    "file_name = os.listdir(path)\n",
    "file_name"
   ]
  },
  {
   "cell_type": "code",
   "execution_count": 110,
   "id": "a444c7e1-92bf-4c82-b391-7de46286b09d",
   "metadata": {},
   "outputs": [
    {
     "data": {
      "text/plain": [
       "'C:\\\\Users\\\\PRAKASH C UPADHYAY\\\\MY PROJECTS CODING\\\\PYTHON PROJECT FILE SORTING'"
      ]
     },
     "execution_count": 110,
     "metadata": {},
     "output_type": "execute_result"
    }
   ],
   "source": [
    "os.getcwd()"
   ]
  },
  {
   "cell_type": "raw",
   "id": "8b651b20-7696-4db3-b2eb-958f74d945ac",
   "metadata": {},
   "source": []
  },
  {
   "cell_type": "raw",
   "id": "58c4d52b-2440-48b4-a3fe-7804443060e9",
   "metadata": {},
   "source": [
    "# Create folders if they don't exist"
   ]
  },
  {
   "cell_type": "code",
   "execution_count": 111,
   "id": "0e3d7da9-7811-4f91-ac73-1e2e2283823c",
   "metadata": {},
   "outputs": [],
   "source": [
    "folder_names = [\"csv file\" , \"text file\" , \"python file\" , \"image file\" ]\n",
    "z=len(folder_names)-1\n",
    "while z>=0 :\n",
    "    if os.path.exists(path + folder_names[z]):\n",
    "        print(\"already exist\")\n",
    "    else :\n",
    "        os.makedirs(path + folder_names[z])\n",
    "    z=z-1    "
   ]
  },
  {
   "cell_type": "raw",
   "id": "d779be1a-9a79-41ac-bfb9-c672de155f8e",
   "metadata": {},
   "source": []
  },
  {
   "cell_type": "raw",
   "id": "8c2ac070-63bd-4277-8424-d6761e797cd9",
   "metadata": {},
   "source": [
    "# Move files into folders"
   ]
  },
  {
   "cell_type": "code",
   "execution_count": 112,
   "id": "04954702-a086-4cd4-a779-7c374c4a592b",
   "metadata": {},
   "outputs": [],
   "source": [
    "for file in file_name :\n",
    "    if \".csv\" in file and not os.path.exists(path + \"csv file/\" + file):\n",
    "      shutil.move(path + file , path + \"csv file/\" + file)\n",
    "    elif \".txt\" in file and not os.path.exists(path + \"text file/\" + file):\n",
    "        shutil.move(path + file ,path + \"text file/\" + file) \n",
    "    elif \".py\" in file and not os.path.exists(path + \"python file/\" + file):\n",
    "        shutil.move(path + file , path+ \"python file/\" + file)\n",
    "    elif (\".png\" in file or \".jpg\" in file) and not os.path.exists(path+ \"image file/\" + file):\n",
    "        shutil.move(path + file , path + \"image file/\" + file) "
   ]
  },
  {
   "cell_type": "code",
   "execution_count": null,
   "id": "b3f007e2-ec1e-4321-8bc6-0997d9180d60",
   "metadata": {},
   "outputs": [],
   "source": []
  }
 ],
 "metadata": {
  "kernelspec": {
   "display_name": "Python 3 (ipykernel)",
   "language": "python",
   "name": "python3"
  },
  "language_info": {
   "codemirror_mode": {
    "name": "ipython",
    "version": 3
   },
   "file_extension": ".py",
   "mimetype": "text/x-python",
   "name": "python",
   "nbconvert_exporter": "python",
   "pygments_lexer": "ipython3",
   "version": "3.12.5"
  }
 },
 "nbformat": 4,
 "nbformat_minor": 5
}
